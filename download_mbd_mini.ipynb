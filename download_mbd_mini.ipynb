{
 "cells": [
  {
   "cell_type": "code",
   "execution_count": 2,
   "id": "0b1b603a",
   "metadata": {},
   "outputs": [
    {
     "name": "stderr",
     "output_type": "stream",
     "text": [
      "/Users/arix/Documents/skoltech/seqmod/embedding_alignment/.venv/lib/python3.13/site-packages/tqdm/auto.py:21: TqdmWarning: IProgress not found. Please update jupyter and ipywidgets. See https://ipywidgets.readthedocs.io/en/stable/user_install.html\n",
      "  from .autonotebook import tqdm as notebook_tqdm\n"
     ]
    }
   ],
   "source": [
    "import os\n",
    "import numpy as np\n",
    "import tarfile\n",
    "from pathlib import Path\n",
    "\n",
    "import polars as pl\n",
    "from huggingface_hub import snapshot_download\n",
    "from polars import selectors as cs\n",
    "from sklearn.model_selection import train_test_split\n"
   ]
  },
  {
   "cell_type": "code",
   "execution_count": 4,
   "id": "18287865",
   "metadata": {},
   "outputs": [],
   "source": [
    "os.environ[\"DATA_DIR\"] = \"./data\""
   ]
  },
  {
   "cell_type": "code",
   "execution_count": 5,
   "id": "e0e52f0a",
   "metadata": {},
   "outputs": [
    {
     "name": "stderr",
     "output_type": "stream",
     "text": [
      "Fetching 6 files: 100%|██████████| 6/6 [00:00<00:00, 9982.48it/s]\n"
     ]
    },
    {
     "data": {
      "text/plain": [
       "'/Users/arix/Documents/skoltech/seqmod/embedding_alignment/data/raw/mbd_mini'"
      ]
     },
     "execution_count": 5,
     "metadata": {},
     "output_type": "execute_result"
    }
   ],
   "source": [
    "raw_path = Path(os.environ[\"DATA_DIR\"], \"raw\", \"mbd_mini\")\n",
    "raw_path.mkdir(exist_ok=True, parents=True)\n",
    "snapshot_download(\n",
    "    repo_id=\"ai-lab/MBD-mini\",\n",
    "    repo_type=\"dataset\",\n",
    "    local_dir=raw_path,\n",
    ")"
   ]
  },
  {
   "cell_type": "code",
   "execution_count": 6,
   "id": "ad9837ef",
   "metadata": {},
   "outputs": [],
   "source": [
    "if not (raw_path / \"detail\").exists():\n",
    "    with tarfile.open(raw_path / \"detail.tar.gz\", \"r:gz\") as tar:\n",
    "        tar.extractall(raw_path)"
   ]
  },
  {
   "cell_type": "code",
   "execution_count": 7,
   "id": "3020706b",
   "metadata": {},
   "outputs": [],
   "source": [
    "if not (raw_path / \"targets\").exists():\n",
    "    with tarfile.open(raw_path / \"targets.tar.gz\", \"r:gz\") as tar:\n",
    "        tar.extractall(raw_path)"
   ]
  },
  {
   "cell_type": "code",
   "execution_count": 8,
   "id": "986ce7e9",
   "metadata": {},
   "outputs": [
    {
     "name": "stdout",
     "output_type": "stream",
     "text": [
      "shape: (217_205, 4)\n",
      "┌─────────────────────────────────┬────────────────────────────┬─────────────────────────┬──────┐\n",
      "│ client_id                       ┆ event_time                 ┆ embedding               ┆ fold │\n",
      "│ ---                             ┆ ---                        ┆ ---                     ┆ ---  │\n",
      "│ str                             ┆ datetime[ns]               ┆ list[f32]               ┆ i64  │\n",
      "╞═════════════════════════════════╪════════════════════════════╪═════════════════════════╪══════╡\n",
      "│ 5226901c78c655767ac2a075e6edca… ┆ 2021-06-18 05:49:23.962741 ┆ [0.393141, -0.036111, … ┆ 0    │\n",
      "│                                 ┆                            ┆ 0.3971…                 ┆      │\n",
      "│ 5226901c78c655767ac2a075e6edca… ┆ 2022-06-29 07:39:31.618769 ┆ [0.302206, -0.381503, … ┆ 0    │\n",
      "│                                 ┆                            ┆ 0.2886…                 ┆      │\n",
      "│ 5226901c78c655767ac2a075e6edca… ┆ 2022-06-24 06:06:59.691367 ┆ [0.570911, -0.395088, … ┆ 0    │\n",
      "│                                 ┆                            ┆ 0.5366…                 ┆      │\n",
      "│ 5226901c78c655767ac2a075e6edca… ┆ 2021-05-12 12:34:32.616245 ┆ [0.232727, -0.284487, … ┆ 0    │\n",
      "│                                 ┆                            ┆ 0.4653…                 ┆      │\n",
      "│ 5226901c78c655767ac2a075e6edca… ┆ 2021-10-25 05:25:17.810891 ┆ [0.316968, -0.149733, … ┆ 0    │\n",
      "│                                 ┆                            ┆ 0.2963…                 ┆      │\n",
      "│ …                               ┆ …                          ┆ …                       ┆ …    │\n",
      "│ e8e387e0e75554b88d6e7f689b3e15… ┆ 2022-09-20 13:58:36.907479 ┆ [0.298985, 0.13175, …   ┆ 4    │\n",
      "│                                 ┆                            ┆ 0.18217]                ┆      │\n",
      "│ e8e387e0e75554b88d6e7f689b3e15… ┆ 2022-08-29 11:18:33.061565 ┆ [0.298985, 0.13175, …   ┆ 4    │\n",
      "│                                 ┆                            ┆ 0.18217]                ┆      │\n",
      "│ e8e387e0e75554b88d6e7f689b3e15… ┆ 2022-12-29 08:07:43.595485 ┆ [0.304963, -0.237866, … ┆ 4    │\n",
      "│                                 ┆                            ┆ 0.3076…                 ┆      │\n",
      "│ eb29e1e897d108ce09a5ba206eaac7… ┆ 2021-07-12 10:20:10.996966 ┆ [0.389853, -0.294782, … ┆ 4    │\n",
      "│                                 ┆                            ┆ 0.2345…                 ┆      │\n",
      "│ eb29e1e897d108ce09a5ba206eaac7… ┆ 2021-06-27 08:28:37.838044 ┆ [0.34171, -0.149753, …  ┆ 4    │\n",
      "│                                 ┆                            ┆ 0.33651…                ┆      │\n",
      "└─────────────────────────────────┴────────────────────────────┴─────────────────────────┴──────┘\n"
     ]
    }
   ],
   "source": [
    "dialog = pl.read_parquet(raw_path / \"detail\" / \"dialog\").drop_nulls()\n",
    "print(dialog)"
   ]
  },
  {
   "cell_type": "code",
   "execution_count": 11,
   "id": "273a7593",
   "metadata": {},
   "outputs": [
    {
     "data": {
      "text/plain": [
       "((768,), np.float32(-0.99998313), np.float32(0.99996156))"
      ]
     },
     "execution_count": 11,
     "metadata": {},
     "output_type": "execute_result"
    }
   ],
   "source": [
    "emb_example = np.array(dialog[\"embedding\"].item(0))\n",
    "emb_example.shape, emb_example.min(), emb_example.max()"
   ]
  }
 ],
 "metadata": {
  "kernelspec": {
   "display_name": ".venv",
   "language": "python",
   "name": "python3"
  },
  "language_info": {
   "codemirror_mode": {
    "name": "ipython",
    "version": 3
   },
   "file_extension": ".py",
   "mimetype": "text/x-python",
   "name": "python",
   "nbconvert_exporter": "python",
   "pygments_lexer": "ipython3",
   "version": "3.13.7"
  }
 },
 "nbformat": 4,
 "nbformat_minor": 5
}
